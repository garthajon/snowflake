{
 "metadata": {
  "kernelspec": {
   "display_name": "Streamlit Notebook",
   "name": "streamlit"
  },
  "lastEditStatus": {
   "notebookId": "x6lbxsjejjdeg6zbgote",
   "authorId": "205313753696",
   "authorName": "GARTHJON",
   "authorEmail": "garth.jones@nhs.net",
   "sessionId": "7abb4114-f8d8-4e42-bc27-31b85a9a0c23",
   "lastEditTime": 1744824198113
  }
 },
 "nbformat_minor": 5,
 "nbformat": 4,
 "cells": [
  {
   "cell_type": "code",
   "id": "3775908f-ca36-4846-8f38-5adca39217f2",
   "metadata": {
    "language": "python",
    "name": "cell1"
   },
   "source": "# Import python packages\nimport streamlit as st\nimport pandas as pd\n\n# We can also use Snowpark for our analyses!\nfrom snowflake.snowpark.context import get_active_session\nsession = get_active_session()\n",
   "execution_count": null,
   "outputs": []
  }
 ]
}
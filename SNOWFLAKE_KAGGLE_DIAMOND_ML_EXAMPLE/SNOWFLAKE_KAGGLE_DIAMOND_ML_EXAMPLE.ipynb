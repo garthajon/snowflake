{
 "metadata": {
  "kernelspec": {
   "display_name": "Streamlit Notebook",
   "name": "streamlit"
  },
  "lastEditStatus": {
   "notebookId": "ldlezsdmncknp52pfry6",
   "authorId": "205313753696",
   "authorName": "GARTHJON",
   "authorEmail": "garth.jones@nhs.net",
   "sessionId": "29ca1905-fe58-4cba-a0d4-41d3c82bc6e0",
   "lastEditTime": 1743577960463
  }
 },
 "nbformat_minor": 5,
 "nbformat": 4,
 "cells": [
  {
   "cell_type": "code",
   "id": "3775908f-ca36-4846-8f38-5adca39217f2",
   "metadata": {
    "language": "python",
    "name": "cell1"
   },
   "source": "#this integration is being created to run the kaggle diamond dataset machine learning example (dataset here in kaggle):\n#https://www.kaggle.com/datasets/shivam2503/diamonds?resource=download\n\n# Snowpark for Python\nimport snowflake.snowpark.functions as F\nfrom snowflake.snowpark.types import DecimalType\n\nimport numpy as np\n# Override np.float_ with np.float64\nnp.float_ = np.float64\n\n# Snowpark ML\nimport snowflake.ml.modeling.preprocessing as snowml\nfrom snowflake.ml.modeling.pipeline import Pipeline\nfrom snowflake.ml.modeling.metrics.correlation import correlation\n\n# Data science libs\nimport pandas as pd\n\nimport matplotlib.pyplot as plt\nimport seaborn as sns\nimport json\nimport joblib\n\n#warning suppression\nimport warnings; warnings.simplefilter('ignore')\n\n# Get active session (current snowflake session)\nfrom snowflake.snowpark.context import get_active_session\nsession = get_active_session()\n\n\n\n# add a query tag to the session \n",
   "execution_count": null,
   "outputs": []
  }
 ]
}
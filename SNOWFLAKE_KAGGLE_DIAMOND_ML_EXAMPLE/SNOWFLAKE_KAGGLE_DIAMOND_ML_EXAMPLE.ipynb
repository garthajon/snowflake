{
 "metadata": {
  "kernelspec": {
   "display_name": "Streamlit Notebook",
   "name": "streamlit"
  },
  "lastEditStatus": {
   "notebookId": "lxene3rjfykgrp7gjntn",
   "authorId": "3958150060068",
   "authorName": "GARTHJON",
   "authorEmail": "garthajon@gmail.com",
   "sessionId": "f13f2fd2-b0c9-4134-8e2a-b802f7059071",
   "lastEditTime": 1743102761176
  }
 },
 "nbformat_minor": 5,
 "nbformat": 4,
 "cells": [
  {
   "cell_type": "code",
   "id": "3775908f-ca36-4846-8f38-5adca39217f2",
   "metadata": {
    "language": "python",
    "name": "cell1"
   },
   "source": "#this integration is being created to run the kaggle diamond dataset machine learning example (dataset here in kaggle):\n#https://www.kaggle.com/datasets/shivam2503/diamonds?resource=download\n\n# Snowpark for Python\nimport snowflake.snowpark.functions as F\nfrom snowflake.snowpark.types import DecimalType\n\n# Snowpark ML\nimport snowflake.ml.modeling.preprocessing as snowml\nfrom snowflake.ml.modeling.pipeline import Pipeline\nfrom snowflake.ml.modeling.metrics.correlation import correlation\n\n# Data science libs\nimport pandas as pd\nimport numpy as np\nimport matplotlib.pyplot as plt\nimport seaborn as sns\nimport json\nimport joblib\n\n#warning suppression\nimport warnings; warnings.simplefilter('ignore')\n\n# Get active session (current snowflake session)\nfrom snowflake.snowpark.context import get_active_session\nsession = get_active_session()\n\n# add a query tag to the session \n",
   "execution_count": null,
   "outputs": []
  }
 ]
}
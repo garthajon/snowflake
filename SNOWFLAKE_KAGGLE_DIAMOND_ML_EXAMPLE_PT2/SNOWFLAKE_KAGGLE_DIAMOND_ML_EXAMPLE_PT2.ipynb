{
 "metadata": {
  "kernelspec": {
   "display_name": "Streamlit Notebook",
   "name": "streamlit"
  },
  "lastEditStatus": {
   "notebookId": "hadskumne2z6qwsg34kz",
   "authorId": "205313753696",
   "authorName": "GARTHJON",
   "authorEmail": "garth.jones@nhs.net",
   "sessionId": "87662512-37a7-49ee-a306-c983039e63f8",
   "lastEditTime": 1744911257015
  }
 },
 "nbformat_minor": 5,
 "nbformat": 4,
 "cells": [
  {
   "cell_type": "code",
   "id": "3775908f-ca36-4846-8f38-5adca39217f2",
   "metadata": {
    "language": "python",
    "name": "import_packages",
    "collapsed": false,
    "codeCollapsed": false
   },
   "source": "#Snowpark for Python\nfrom snowflake.snowpark.version import VERSION\nfrom snowflake.snowpark.functions import udf\nimport snowflake.snowpark.functions as F\n\nimport numpy as np\n#Override np.float_ with np.float64\nnp.float_ = np.float64\n\nfrom snowflake.ml.modeling.xgboost import XGBRegressor\nfrom snowflake.ml.modeling.model_selection import GridSearchCV\nfrom snowflake.ml.registry import Registry\nfrom snowflake.ml._internal.utils import identifier\n\n# data science libs\nimport pandas as pd  \n# need to add numpy code from previous notebook to handle int64 issue for numpy\nimport matplotlib.pyplot as plt \nimport seaborn as sns \n\nfrom snowflake.ml.modeling.metrics import mean_absolute_percentage_error \n\n# other libs \nimport json\nimport joblib \nimport cachetools \n\n# warning suppression \nimport warnings; warnings.simplefilter('ignore')\n",
   "execution_count": null,
   "outputs": []
  },
  {
   "cell_type": "code",
   "id": "8532af82-f7cc-41ef-b9d4-bb0db8153f8a",
   "metadata": {
    "language": "python",
    "name": "establish_connection"
   },
   "outputs": [],
   "source": "# Get active session (current snowflake session)\nfrom snowflake.snowpark.context import get_active_session\nsession = get_active_session()\n\n# add a query tag to the session \nsession.query_tag = {\"origin\":\"sf_sit-is\",\"name\":\"e2e_ml_snowparkpython\", \"version\":{\"major\":1,\"minor\":0}}\n\n# Set session context\nsession.use_role(\"ACCOUNTADMIN\")\n\n# get current solution prefix from warehouse name\nsolution_prefix = session.get_current_warehouse()\n#.strip(\"_\").split(\"_DS_WH\")[0]\n\n# Get the current role, warehouse, and database/schema\nprint(f\"Current role: {session.get_current_role()} | Current warehouse: {session.get_current_warehouse()} | DB SCHEMA: {session.sql('select current_database(), current_schema()').collect()}\")",
   "execution_count": null
  },
  {
   "cell_type": "code",
   "id": "abd0ac20-f891-4b93-a3d7-0278db9a6c28",
   "metadata": {
    "language": "python",
    "name": "load_data"
   },
   "outputs": [],
   "source": "# Data Loading\ndiamonds_df = session.table('DIAMONDS')\ndiamonds_df",
   "execution_count": null
  },
  {
   "cell_type": "code",
   "id": "1ff7d250-4518-47b7-9c42-ad6aea28ae03",
   "metadata": {
    "language": "python",
    "name": "Categorical_Columns"
   },
   "outputs": [],
   "source": "# Categorize all the features for processing\nCATEGORICAL_COLUMNS = [\"CUT\", \"COLOR\", \"CLARITY\"]\nCATEGORICAL_COLUMNS_OE = [\"CUT_OE\", \"COLOR_OE\", \"CLARITY_OE\"] # To store the ordinal encoded columns\nNUMERICAL_COLUMNS = [\"CARAT\", \"DEPTH\", '\"table\"', \"X\", \"Y\", \"Z\"]\n\nLABEL_COLUMNS = ['PRICE']\nOUTPUT_COLUMNS = ['PREDICTED_PRICE']\n",
   "execution_count": null
  },
  {
   "cell_type": "code",
   "id": "0cb3608c-66e7-4e7b-9b07-057530f57454",
   "metadata": {
    "language": "python",
    "name": "load_model_from_registry"
   },
   "outputs": [],
   "source": "# load the preprocessing model which alreadt exists in the model registry\nmodel_registry = Registry(session, database_name=\"DATASCIENCE\", schema_name=\"PUBLIC\")\npreprocessing_pipeline = model_registry.get_model('pre_process_diamond')\n",
   "execution_count": null
  }
 ]
}
{
 "metadata": {
  "kernelspec": {
   "display_name": "Streamlit Notebook",
   "name": "streamlit"
  },
  "lastEditStatus": {
   "notebookId": "7uc76pvecafgi5lfcbhk",
   "authorId": "205313753696",
   "authorName": "GARTHJON",
   "authorEmail": "garth.jones@nhs.net",
   "sessionId": "109d1d80-e34b-416a-8348-dd910ee6adf5",
   "lastEditTime": 1745862698020
  }
 },
 "nbformat_minor": 5,
 "nbformat": 4,
 "cells": [
  {
   "cell_type": "code",
   "id": "3775908f-ca36-4846-8f38-5adca39217f2",
   "metadata": {
    "language": "python",
    "name": "import_packages",
    "collapsed": false,
    "codeCollapsed": false
   },
   "source": "#Snowpark for Python\nfrom snowflake.snowpark.version import VERSION\nfrom snowflake.snowpark.functions import udf\nimport snowflake.snowpark.functions as F\n\nimport numpy as np\n#Override np.float_ with np.float64\nnp.float_ = np.float64\n\nfrom snowflake.ml.modeling.xgboost import XGBRegressor\nfrom snowflake.ml.modeling.model_selection import GridSearchCV\nfrom snowflake.ml.registry import Registry\nfrom snowflake.ml._internal.utils import identifier\n\n# data science libs\nimport pandas as pd  \n# need to add numpy code from previous notebook to handle int64 issue for numpy\nimport matplotlib.pyplot as plt \nimport seaborn as sns \n\nfrom snowflake.ml.modeling.metrics import mean_absolute_percentage_error \n\n# other libs \nimport json\nimport joblib \nimport cachetools \n\n# warning suppression \nimport warnings; warnings.simplefilter('ignore')\n",
   "execution_count": null,
   "outputs": []
  },
  {
   "cell_type": "code",
   "id": "8532af82-f7cc-41ef-b9d4-bb0db8153f8a",
   "metadata": {
    "language": "python",
    "name": "establish_connection"
   },
   "outputs": [],
   "source": "# Get active session (current snowflake session)\nfrom snowflake.snowpark.context import get_active_session\nsession = get_active_session()\n\n# add a query tag to the session \nsession.query_tag = {\"origin\":\"sf_sit-is\",\"name\":\"e2e_ml_snowparkpython\", \"version\":{\"major\":1,\"minor\":0}}\n\n# Set session context\nsession.use_role(\"ACCOUNTADMIN\")\n\n# get current solution prefix from warehouse name\nsolution_prefix = session.get_current_warehouse()\n#.strip(\"_\").split(\"_DS_WH\")[0]\n\n# Get the current role, warehouse, and database/schema\nprint(f\"Current role: {session.get_current_role()} | Current warehouse: {session.get_current_warehouse()} | DB SCHEMA: {session.sql('select current_database(), current_schema()').collect()}\")",
   "execution_count": null
  },
  {
   "cell_type": "code",
   "id": "abd0ac20-f891-4b93-a3d7-0278db9a6c28",
   "metadata": {
    "language": "python",
    "name": "load_data"
   },
   "outputs": [],
   "source": "# Data Loading\n# note that by default this is a snowpark/snowflake data frame\ndiamonds_df = session.table('DIAMONDS')\ndiamonds_df",
   "execution_count": null
  },
  {
   "cell_type": "code",
   "id": "c08fffbb-2f8e-47f9-aa88-93bd40e18b79",
   "metadata": {
    "language": "python",
    "name": "strip_out_double_quotes_from_column"
   },
   "outputs": [],
   "source": "#strip double quotes from column names\n\n# Function to strip double quotes from column names\ndef strip_double_quotes_from_column_names(df):\n    new_columns = [col.replace('\"', '') for col in df.columns]\n    return df.to_df(*new_columns)\n\n# Apply the function to the DataFrame\ndiamonds_df = strip_double_quotes_from_column_names(diamonds_df)\n",
   "execution_count": null
  },
  {
   "cell_type": "code",
   "id": "1ff7d250-4518-47b7-9c42-ad6aea28ae03",
   "metadata": {
    "language": "python",
    "name": "Categorical_Columns"
   },
   "outputs": [],
   "source": "# Categorize all the features for processing\nCATEGORICAL_COLUMNS = [\"CUT\", \"COLOR\", \"CLARITY\"]\nCATEGORICAL_COLUMNS_OE = [\"CUT_OE\", \"COLOR_OE\", \"CLARITY_OE\"] # To store the ordinal encoded columns\nNUMERICAL_COLUMNS = [\"CARAT\", \"DEPTH\", \"X\", \"Y\", \"Z\"]\n\nLABEL_COLUMNS = ['PRICE']\nOUTPUT_COLUMNS = ['PREDICTED_PRICE']\n",
   "execution_count": null
  },
  {
   "cell_type": "code",
   "id": "0cb3608c-66e7-4e7b-9b07-057530f57454",
   "metadata": {
    "language": "python",
    "name": "load_model_from_registry"
   },
   "outputs": [],
   "source": "# load the preprocessing model which alreadt exists in the model registry\n# model_registry = Registry(session, database_name=\"DATASCIENCE\", schema_name=\"PUBLIC\")\n# preprocessing_pipeline = model_registry.get_model('pre_process_diamond')\n",
   "execution_count": null
  },
  {
   "cell_type": "code",
   "id": "2398f85a-0c5c-4e05-bc6b-a4f68b71102a",
   "metadata": {
    "language": "python",
    "name": "load_model_from_models_stage"
   },
   "outputs": [],
   "source": "#session.use_database(f\"{solution_prefix}_PROD\")\n#session.use_schema(\"ANALYTICS\")\ndb=session.get_current_database()\n#.strip('')\n\n# Construct the file path using the solution_prefix\nfile_path = f\"@{db}.PUBLIC.models/preprocessing_pipeline.joblib.gz\"\n\nsession.file.get(file_path, '/tmp')\nPIPELINE_FILE = \"/tmp/preprocessing_pipeline.joblib.gz\"\npreprocessing_pipeline = joblib.load(PIPELINE_FILE)\n",
   "execution_count": null
  },
  {
   "cell_type": "code",
   "id": "c0bac32f-4b91-4d73-97b8-f357c9de0fe1",
   "metadata": {
    "language": "python",
    "name": "prepare_train_test_dataframe"
   },
   "outputs": [],
   "source": "\ndiamonds_train_df, diamonds_test_df = diamonds_df.random_split(weights=[0.9, 0.1], seed=0)\ntrain_df = preprocessing_pipeline.fit(diamonds_train_df).transform(diamonds_train_df)\n# apply the preprocessing pipeline to the training and test data frames\n#train_df = preprocessing_pipeline.transform(diamonds_train_df)\ntest_df = preprocessing_pipeline.transform(diamonds_test_df)\n\n",
   "execution_count": null
  },
  {
   "cell_type": "code",
   "id": "800236b6-9670-4aac-a942-916414ffb216",
   "metadata": {
    "language": "python",
    "name": "build_the_regression_model_from_XGBoost_Library"
   },
   "outputs": [],
   "source": "# create the model - a regression ML model from the XGBoost ML library \nregressor = XGBRegressor(\n    input_cols=CATEGORICAL_COLUMNS_OE + NUMERICAL_COLUMNS,\n    label_cols=LABEL_COLUMNS,\n    output_cols=OUTPUT_COLUMNS\n)\n#train the model\nregressor.fit(train_df)\n#do the prediction with the model and put the prediction into a snowpark dataframe\nresult = regressor.predict(test_df)\n",
   "execution_count": null
  },
  {
   "cell_type": "code",
   "id": "e89ffac1-2497-454e-9b72-97df2e7e72c2",
   "metadata": {
    "language": "python",
    "name": "prediction_to_pandas_df"
   },
   "outputs": [],
   "source": "# using the same model do another prediction into a pandas dataframe\nregressor.predict(test_df[CATEGORICAL_COLUMNS_OE+NUMERICAL_COLUMNS].to_pandas())\n",
   "execution_count": null
  }
 ]
}
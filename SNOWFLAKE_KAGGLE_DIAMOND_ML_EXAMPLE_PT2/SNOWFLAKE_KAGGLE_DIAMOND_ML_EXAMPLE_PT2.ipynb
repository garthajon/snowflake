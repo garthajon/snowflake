{
 "metadata": {
  "kernelspec": {
   "display_name": "Streamlit Notebook",
   "name": "streamlit"
  },
  "lastEditStatus": {
   "notebookId": "kr6d4e2zpxclzoq75z3p",
   "authorId": "205313753696",
   "authorName": "GARTHJON",
   "authorEmail": "garth.jones@nhs.net",
   "sessionId": "19bf152e-e79c-424e-8726-a95e3e15f6ac",
   "lastEditTime": 1744825011976
  }
 },
 "nbformat_minor": 5,
 "nbformat": 4,
 "cells": [
  {
   "cell_type": "code",
   "id": "3775908f-ca36-4846-8f38-5adca39217f2",
   "metadata": {
    "language": "python",
    "name": "import_packages"
   },
   "source": "#Snowpark for Python\nfrom snowflake.snowpark.version import VERSION\nfrom snowflake.snowpark.functions import udf\nimport snowflake.snowpark.functions as F\n\nfrom snowflake.ml.modeling.xgboost import XGBRegressor\nfrom snowflake.ml.modeling.model_selection import GridSearchCV\nfrom snowflake.ml.modeling.import Registry\nfrom snowflake.ml._internal.utils import identifier\n\n# data science libs\nimport pandas as pd \nimport numpy as np \n# need to add numpy code from previous notebook to handle int64 issue for numpy\nimport matplotlib.pyplot as plt \nimport seaborn as sns \n\nfrom snowflake.ml.modeling.metrics import mean_absolute_percentage_error \n\n# other libs \nimport json\nimport joblib \nimport cachetools \n\n# warning suppression \nimport warnings; warnings.simplefilter('ignore')\n",
   "execution_count": null,
   "outputs": []
  }
 ]
}